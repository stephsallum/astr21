{
  "cells": [
    {
      "cell_type": "markdown",
      "id": "a540a031-7bf6-40ad-890b-a5a714dab14a",
      "metadata": {
        "id": "a540a031-7bf6-40ad-890b-a5a714dab14a"
      },
      "source": [
        "# ASTR21 Winter 2025 Sections 1 & 2 Notebook"
      ]
    },
    {
      "cell_type": "markdown",
      "id": "bddafcf9-aafb-4149-bcb2-711b6736d2ec",
      "metadata": {
        "id": "bddafcf9-aafb-4149-bcb2-711b6736d2ec"
      },
      "source": [
        "In this notebook, we'll go through some basics of using python, Jupyter notebooks, and Colab. We'll also go through some examples\n",
        "related to the material in sections 1 and 2. While we're at it, we'll import some of the python modules that we'll be using in the notebooks for later sections in the course.\n",
        "\n",
        "This isn't an exhaustive tutorial for python, Jupyter notebooks, or Colab by any means. Here are a few links to additional tutorials that you may find useful!\n",
        "\n",
        "* [Google Colab Tutorial](https://colab.research.google.com/drive/16pBJQePbqkz3QFV54L4NIkOn1kwpuRrj): also check out the \"Important Resources\" and \"Additional Content\" links toward the end of the notebook (which you can also find in the table of contents on the left hand side).\n",
        "\n",
        "* [Overview of Colaboratory Features](https://colab.research.google.com/notebooks/basic_features_overview.ipynb): this goes through some of the important features of Colab and notebooks. So does this [tutorial!](https://colab.research.google.com/notebooks/intro.ipynb)\n",
        "\n",
        "* [Jupyter](https://jupyter.org/): Colab is built on top of Jupyter Notebook, which you can find here. There are some tutorials linked from this website. Here's the [intro notebook](https://jupyter.org/try-jupyter/notebooks/?path=notebooks/Intro.ipynb) that you can find if you click \"Try it in your browser\" in the \"Jupyter Notebook\" section of the main page."
      ]
    },
    {
      "cell_type": "markdown",
      "source": [
        "## Some Basics"
      ],
      "metadata": {
        "id": "SpIgW2MLKc4H"
      },
      "id": "SpIgW2MLKc4H"
    },
    {
      "cell_type": "markdown",
      "source": [
        "To execute the cell below, click on it, and then either: (1) press SHIFT and ENTER at the same time, or (2) click the right arrow button on the left side of the cell."
      ],
      "metadata": {
        "id": "rmr3RyHqKl2w"
      },
      "id": "rmr3RyHqKl2w"
    },
    {
      "cell_type": "code",
      "source": [
        "1+1"
      ],
      "metadata": {
        "colab": {
          "base_uri": "https://localhost:8080/"
        },
        "id": "TlLQyLXkKSEq",
        "outputId": "21c111a5-90f8-4673-f475-440c15bac15f"
      },
      "id": "TlLQyLXkKSEq",
      "execution_count": 1,
      "outputs": [
        {
          "output_type": "execute_result",
          "data": {
            "text/plain": [
              "2"
            ]
          },
          "metadata": {},
          "execution_count": 1
        }
      ]
    },
    {
      "cell_type": "code",
      "source": [
        "# Starting a line with # turns it into a comment.\n",
        "# The notebook won't run lines that start with #.\n",
        "# They are just messages to you or someone else\n",
        "# that help you keep track of what the code does.\n",
        "\n",
        "# This cell does some arithmetic.\n",
        "5-4"
      ],
      "metadata": {
        "colab": {
          "base_uri": "https://localhost:8080/"
        },
        "id": "EQ6a-uQTK4p_",
        "outputId": "12251a0d-b6ad-4c30-9a57-5bc71df6540d"
      },
      "id": "EQ6a-uQTK4p_",
      "execution_count": 2,
      "outputs": [
        {
          "output_type": "execute_result",
          "data": {
            "text/plain": [
              "1"
            ]
          },
          "metadata": {},
          "execution_count": 2
        }
      ]
    },
    {
      "cell_type": "code",
      "source": [
        "# In the next two lines, we'll define two variables\n",
        "# called a and b.\n",
        "a = 4\n",
        "b = 3\n",
        "\n",
        "# The next line adds a and b.\n",
        "a+b"
      ],
      "metadata": {
        "colab": {
          "base_uri": "https://localhost:8080/"
        },
        "id": "rjc3XhCFMMju",
        "outputId": "e86a6f23-9e6a-4f6a-f5e5-36c36f3e7c5b"
      },
      "id": "rjc3XhCFMMju",
      "execution_count": 3,
      "outputs": [
        {
          "output_type": "execute_result",
          "data": {
            "text/plain": [
              "7"
            ]
          },
          "metadata": {},
          "execution_count": 3
        }
      ]
    },
    {
      "cell_type": "code",
      "source": [
        "c = a*a       # This line multiplies a and b as a new variable called c.\n",
        "print(c)      # This line tells the notebook to print the value of the variable c."
      ],
      "metadata": {
        "colab": {
          "base_uri": "https://localhost:8080/"
        },
        "id": "epf1SliqMi9M",
        "outputId": "5a357c30-5b22-48bd-9a63-1f6808205948"
      },
      "id": "epf1SliqMi9M",
      "execution_count": 4,
      "outputs": [
        {
          "output_type": "stream",
          "name": "stdout",
          "text": [
            "16\n"
          ]
        }
      ]
    },
    {
      "cell_type": "markdown",
      "source": [
        "## Importing Modules"
      ],
      "metadata": {
        "id": "oKSLmtNkpnc9"
      },
      "id": "oKSLmtNkpnc9"
    },
    {
      "cell_type": "markdown",
      "id": "d7f0da5f-4f19-4c27-88e5-629e1507a209",
      "metadata": {
        "id": "d7f0da5f-4f19-4c27-88e5-629e1507a209"
      },
      "source": [
        "Let's import some modules for working with arrays, and for making plots."
      ]
    },
    {
      "cell_type": "code",
      "execution_count": 5,
      "id": "1c87142f-f0f8-4fc4-81c2-d8bcb7fc0dd5",
      "metadata": {
        "id": "1c87142f-f0f8-4fc4-81c2-d8bcb7fc0dd5"
      },
      "outputs": [],
      "source": [
        "import matplotlib as mpl\n",
        "import matplotlib.pyplot as plt\n",
        "import numpy as np\n",
        "import astropy.io.fits as pyfits"
      ]
    },
    {
      "cell_type": "markdown",
      "source": [
        "## Pulling Data From Github"
      ],
      "metadata": {
        "id": "F_EP_Msfps3q"
      },
      "id": "F_EP_Msfps3q"
    },
    {
      "cell_type": "markdown",
      "id": "fb001365-203c-4ea9-acd7-b04c7447eb3d",
      "metadata": {
        "id": "fb001365-203c-4ea9-acd7-b04c7447eb3d"
      },
      "source": [
        "In this course we'll be doing some in-class activities\n",
        "where we load data from the class Github page. The\n",
        "following cell shows you how to do this using a wget command\n",
        "where you retrieve .zip archive from Github, and then\n",
        "using a command to unpack the archive into a directory\n",
        "that will exist in your Colab space."
      ]
    },
    {
      "cell_type": "code",
      "execution_count": 6,
      "id": "7a8b89da-0ddd-4550-858c-995d930c351c",
      "metadata": {
        "colab": {
          "base_uri": "https://localhost:8080/"
        },
        "id": "7a8b89da-0ddd-4550-858c-995d930c351c",
        "outputId": "3b89fdf7-ebab-4ab1-bd74-ee1e6d584a96"
      },
      "outputs": [
        {
          "output_type": "stream",
          "name": "stdout",
          "text": [
            "--2025-01-16 03:40:27--  https://github.com/stephsallum/astr21/raw/refs/heads/main/sec1_data.zip\n",
            "Resolving github.com (github.com)... 140.82.112.3\n",
            "Connecting to github.com (github.com)|140.82.112.3|:443... connected.\n",
            "HTTP request sent, awaiting response... 302 Found\n",
            "Location: https://raw.githubusercontent.com/stephsallum/astr21/refs/heads/main/sec1_data.zip [following]\n",
            "--2025-01-16 03:40:27--  https://raw.githubusercontent.com/stephsallum/astr21/refs/heads/main/sec1_data.zip\n",
            "Resolving raw.githubusercontent.com (raw.githubusercontent.com)... 185.199.109.133, 185.199.111.133, 185.199.110.133, ...\n",
            "Connecting to raw.githubusercontent.com (raw.githubusercontent.com)|185.199.109.133|:443... connected.\n",
            "HTTP request sent, awaiting response... 200 OK\n",
            "Length: 78473 (77K) [application/zip]\n",
            "Saving to: ‘sec1_data.zip’\n",
            "\n",
            "sec1_data.zip       100%[===================>]  76.63K  --.-KB/s    in 0.02s   \n",
            "\n",
            "2025-01-16 03:40:27 (3.23 MB/s) - ‘sec1_data.zip’ saved [78473/78473]\n",
            "\n",
            "Archive:  sec1_data.zip\n",
            "   creating: sec1_data/\n",
            "  inflating: __MACOSX/._sec1_data    \n",
            "  inflating: sec1_data/sec1_random_image.fits  \n",
            "  inflating: __MACOSX/sec1_data/._sec1_random_image.fits  \n",
            "  inflating: sec1_data/sec1_random_data.txt  \n",
            "  inflating: __MACOSX/sec1_data/._sec1_random_data.txt  \n"
          ]
        }
      ],
      "source": [
        "!wget https://github.com/stephsallum/astr21/raw/refs/heads/main/secs1to2_data.zip\n",
        "!unzip secs1to2_data.zip"
      ]
    },
    {
      "cell_type": "code",
      "source": [
        "# Let's use numpy to load a list of dates that we'll use later in the notebook\n",
        "\n",
        "dat = np.loadtxt('sec1_data/sec1_random_data.txt')"
      ],
      "metadata": {
        "id": "tflZu8I6YXCT"
      },
      "id": "tflZu8I6YXCT",
      "execution_count": 8,
      "outputs": []
    },
    {
      "cell_type": "markdown",
      "source": [
        "## Saving Your Notebook"
      ],
      "metadata": {
        "id": "PhW0_oWSRLyG"
      },
      "id": "PhW0_oWSRLyG"
    },
    {
      "cell_type": "markdown",
      "source": [
        "This notebook is running on a server that won't save your work if you close this tab.\n",
        "\n",
        "To save the notebook, click on \"File\" and then \"Save a copy in Drive.\" You'll then have a notebook saved in a Google Drive folder called \"Collaboratory.\" You can open the notebook from there later.\n",
        "\n",
        "If you want to save outputs like plots to your computer, you can right click on them and then choose \"Save image as...\" If you want to give this a try, you can do it for the plot generated by the following cell."
      ],
      "metadata": {
        "id": "0bc0GtTjUB-b"
      },
      "id": "0bc0GtTjUB-b"
    },
    {
      "cell_type": "code",
      "source": [
        "# First we'll generate an array of 100 random numbers uniformly distributed\n",
        "# between 0 and 1.\n",
        "a = np.random.uniform(0,1,size=100)\n",
        "\n",
        "# Next, we'll scatter plot those 100 numbers as y values, against their\n",
        "# positions in the array as x values.\n",
        "\n",
        "plt.scatter(range(100),a)\n",
        "plt.ylabel('Random Number')\n",
        "plt.xlabel('Position')\n",
        "plt.show()"
      ],
      "metadata": {
        "colab": {
          "base_uri": "https://localhost:8080/",
          "height": 449
        },
        "id": "JAFe8T05UkiG",
        "outputId": "69326b86-0bcf-4570-f1ef-52042a895134"
      },
      "id": "JAFe8T05UkiG",
      "execution_count": 9,
      "outputs": [
        {
          "output_type": "display_data",
          "data": {
            "text/plain": [
              "<Figure size 640x480 with 1 Axes>"
            ],
            "image/png": "[encoded data removed]"
          },
          "metadata": {}
        }
      ]
    },
    {
      "cell_type": "markdown",
      "source": [
        "## Let's collect data from Stellarium and make a plot!"
      ],
      "metadata": {
        "id": "b04C5kJhN1jc"
      },
      "id": "b04C5kJhN1jc"
    },
    {
      "cell_type": "code",
      "source": [],
      "metadata": {
        "id": "Jhe4QAQeMwg_"
      },
      "id": "Jhe4QAQeMwg_",
      "execution_count": null,
      "outputs": []
    }
  ],
  "metadata": {
    "kernelspec": {
      "display_name": "Python 3 (ipykernel)",
      "language": "python",
      "name": "python3"
    },
    "language_info": {
      "codemirror_mode": {
        "name": "ipython",
        "version": 3
      },
      "file_extension": ".py",
      "mimetype": "text/x-python",
      "name": "python",
      "nbconvert_exporter": "python",
      "pygments_lexer": "ipython3",
      "version": "3.11.9"
    },
    "colab": {
      "provenance": []
    }
  },
  "nbformat": 4,
  "nbformat_minor": 5
}