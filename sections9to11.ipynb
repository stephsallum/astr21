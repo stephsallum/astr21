{
  "nbformat": 4,
  "nbformat_minor": 0,
  "metadata": {
    "colab": {
      "provenance": [],
      "authorship_tag": "ABX9TyPRSDDHXgn2pPDm939ad6bX",
      "include_colab_link": true
    },
    "kernelspec": {
      "name": "python3",
      "display_name": "Python 3"
    },
    "language_info": {
      "name": "python"
    }
  },
  "cells": [
    {
      "cell_type": "markdown",
      "metadata": {
        "id": "view-in-github",
        "colab_type": "text"
      },
      "source": [
        "<a href=\"https://colab.research.google.com/github/stephsallum/astr21/blob/main/sections9to11.ipynb\" target=\"_parent\"><img src=\"https://colab.research.google.com/assets/colab-badge.svg\" alt=\"Open In Colab\"/></a>"
      ]
    },
    {
      "cell_type": "markdown",
      "source": [
        "# ASTR21 Winter 2025 Sections 9 to 11 Notebook\n",
        "\n",
        "In this notebook we'll use data from the [Sloan Digital Sky Survey](https://www.sdss.org/) to re-discover the Hubble diagram! We'll look at SDSS spectra for 25 galaxies to determine their redshifts. We'll calculate velocities from those redshifts, and plot them against independently measured distances to re-create the Hubble diagram. We'll then fit a line to the datapoints to make our own measurement of the Hubble constant.\n",
        "\n",
        "This notebook uses [pandas](https://pandas.pydata.org/) to load, display, and manipulate data arrays. It also uses [astropy](https://www.astropy.org/) to read in data from fits files."
      ],
      "metadata": {
        "id": "_H02KDgyhCiQ"
      }
    },
    {
      "cell_type": "markdown",
      "source": [
        "## First we'll load some modules!"
      ],
      "metadata": {
        "id": "fyeppkpQh8HQ"
      }
    },
    {
      "cell_type": "code",
      "source": [
        "import numpy as np\n",
        "import matplotlib.pyplot as plt\n",
        "import pandas as pd\n",
        "from scipy.optimize import curve_fit\n",
        "from astropy.io import fits"
      ],
      "metadata": {
        "id": "528cJ3WlJCPt"
      },
      "execution_count": 18,
      "outputs": []
    },
    {
      "cell_type": "markdown",
      "source": [
        "## Next we'll load our list of galaxies and a bunch of fits files from the course Github."
      ],
      "metadata": {
        "id": "J21FLh0whBqW"
      }
    },
    {
      "cell_type": "code",
      "execution_count": 19,
      "metadata": {
        "colab": {
          "base_uri": "https://localhost:8080/"
        },
        "id": "SD7n4jg4Hwly",
        "outputId": "f28728d5-1ad8-4d16-9a5b-eea6f5f5b449"
      },
      "outputs": [
        {
          "output_type": "stream",
          "name": "stdout",
          "text": [
            "--2025-03-12 04:21:59--  https://github.com/stephsallum/astr21/raw/refs/heads/main/secs9to11_data.zip\n",
            "Resolving github.com (github.com)... 140.82.112.3\n",
            "Connecting to github.com (github.com)|140.82.112.3|:443... connected.\n",
            "HTTP request sent, awaiting response... 302 Found\n",
            "Location: https://raw.githubusercontent.com/stephsallum/astr21/refs/heads/main/secs9to11_data.zip [following]\n",
            "--2025-03-12 04:22:00--  https://raw.githubusercontent.com/stephsallum/astr21/refs/heads/main/secs9to11_data.zip\n",
            "Resolving raw.githubusercontent.com (raw.githubusercontent.com)... 185.199.109.133, 185.199.108.133, 185.199.110.133, ...\n",
            "Connecting to raw.githubusercontent.com (raw.githubusercontent.com)|185.199.109.133|:443... connected.\n",
            "HTTP request sent, awaiting response... 200 OK\n",
            "Length: 2444554 (2.3M) [application/zip]\n",
            "Saving to: ‘secs9to11_data.zip.2’\n",
            "\n",
            "secs9to11_data.zip. 100%[===================>]   2.33M  11.2MB/s    in 0.2s    \n",
            "\n",
            "2025-03-12 04:22:00 (11.2 MB/s) - ‘secs9to11_data.zip.2’ saved [2444554/2444554]\n",
            "\n",
            "Archive:  secs9to11_data.zip\n",
            "replace __MACOSX/._secs9to11_data? [y]es, [n]o, [A]ll, [N]one, [r]ename: A\n",
            "  inflating: __MACOSX/._secs9to11_data  \n",
            "  inflating: secs9to11_data/Galaxy+spectra+and+distances.csv  \n",
            "  inflating: __MACOSX/secs9to11_data/._Galaxy+spectra+and+distances.csv  \n",
            "  inflating: secs9to11_data/NGC99.fits  \n",
            "  inflating: __MACOSX/secs9to11_data/._NGC99.fits  \n"
          ]
        }
      ],
      "source": [
        "!wget https://github.com/stephsallum/astr21/raw/refs/heads/main/secs9to11_data.zip\n",
        "!unzip secs9to11_data.zip"
      ]
    },
    {
      "cell_type": "markdown",
      "source": [
        "## Let's load in the list of galaxies and display it using pandas.\n",
        "\n",
        "Before we display it, we'll add a column to the array so that we can eventually store the velocities of our galaxies!"
      ],
      "metadata": {
        "id": "K4rmxu97iIA8"
      }
    },
    {
      "cell_type": "code",
      "source": [
        "galaxy_list = np.loadtxt('secs9to11_data/Galaxy+spectra+and+distances.csv',delimiter=',',dtype=str)"
      ],
      "metadata": {
        "id": "CSmCiZffJypO"
      },
      "execution_count": 20,
      "outputs": []
    },
    {
      "cell_type": "code",
      "source": [
        "df = pd.read_csv('secs9to11_data/Galaxy+spectra+and+distances.csv')\n",
        "pd.set_option('display.max_rows',None)\n",
        "pd.set_option('display.max_columns',None)\n",
        "df['Velocity v (km/s)'] = 'None'"
      ],
      "metadata": {
        "id": "UIQPSwmAJ-eW"
      },
      "execution_count": 21,
      "outputs": []
    },
    {
      "cell_type": "markdown",
      "source": [
        "After you display the table by executing the cell below, click the top button that appears on the right next to the first row of the table, to make it interactive."
      ],
      "metadata": {
        "id": "AWwPkjvSmBIA"
      }
    },
    {
      "cell_type": "code",
      "source": [
        "df"
      ],
      "metadata": {
        "colab": {
          "base_uri": "https://localhost:8080/",
          "height": 1117
        },
        "id": "Pvi6fmq6ySAG",
        "outputId": "abaf6750-0866-46bf-8e1d-206b1921e900"
      },
      "execution_count": 29,
      "outputs": [
        {
          "output_type": "execute_result",
          "data": {
            "text/plain": [
              "        Galaxy name                      Redshift Independent Distance  \\\n",
              "0            NGC 99  https://ned.ipac.caltech.edu/cgi-bin/nDistance...   \n",
              "1          NGC 2713  https://ned.ipac.caltech.edu/cgi-bin/nDistance...   \n",
              "2          NGC 3440  https://ned.ipac.caltech.edu/cgi-bin/nDistance...   \n",
              "3          NGC 7108  https://ned.ipac.caltech.edu/cgi-bin/nDistance...   \n",
              "4           NGC 450  https://ned.ipac.caltech.edu/cgi-bin/nDistance...   \n",
              "5          NGC 5750  https://ned.ipac.caltech.edu/cgi-bin/nDistance...   \n",
              "6          NGC 5719  https://ned.ipac.caltech.edu/cgi-bin/nDistance...   \n",
              "7   [BKD2008] WR 52  https://ned.ipac.caltech.edu/cgi-bin/nDistance...   \n",
              "8          NGC 5334  https://ned.ipac.caltech.edu/cgi-bin/nDistance...   \n",
              "9          NGC 5496  https://ned.ipac.caltech.edu/cgi-bin/nDistance...   \n",
              "10    MCG+00-34-005  https://ned.ipac.caltech.edu/cgi-bin/nDistance...   \n",
              "11         NGC 5705  https://ned.ipac.caltech.edu/cgi-bin/nDistance...   \n",
              "12         NGC 5584  https://ned.ipac.caltech.edu/cgi-bin/nDistance...   \n",
              "13         NGC 4355  https://ned.ipac.caltech.edu/cgi-bin/nDistance...   \n",
              "14         NGC 5211  https://ned.ipac.caltech.edu/cgi-bin/nDistance...   \n",
              "15           IC 653  https://ned.ipac.caltech.edu/cgi-bin/nDistance...   \n",
              "16         NGC 4592  https://ned.ipac.caltech.edu/cgi-bin/nDistance...   \n",
              "17         NGC 4668  https://ned.ipac.caltech.edu/cgi-bin/nDistance...   \n",
              "18         NGC 3325  https://ned.ipac.caltech.edu/cgi-bin/nDistance...   \n",
              "19          Mrk 778  https://ned.ipac.caltech.edu/cgi-bin/nDistance...   \n",
              "20         NGC 3719  https://ned.ipac.caltech.edu/cgi-bin/nDistance...   \n",
              "21         UGC 6903  https://ned.ipac.caltech.edu/cgi-bin/nDistance...   \n",
              "22         UGC 1083  https://ned.ipac.caltech.edu/cgi-bin/nDistance...   \n",
              "23          NGC 774  https://ned.ipac.caltech.edu/cgi-bin/nDistance...   \n",
              "24         NGC 1285  https://ned.ipac.caltech.edu/cgi-bin/nDistance...   \n",
              "\n",
              "    Distance (Mpc)                                      Spectral FITS  \\\n",
              "0           29.100  https://skyserver.sdss.org/dr12/en/tools/explo...   \n",
              "1           61.344  https://skyserver.sdss.org/dr12/en/tools/explo...   \n",
              "2           40.533  https://skyserver.sdss.org/dr12/en/tools/explo...   \n",
              "3           92.950  https://skyserver.sdss.org/dr12/en/tools/explo...   \n",
              "4           17.613  https://skyserver.sdss.org/dr12/en/tools/explo...   \n",
              "5           30.086  https://skyserver.sdss.org/dr12/en/tools/explo...   \n",
              "6           26.118  https://skyserver.sdss.org/dr12/en/tools/explo...   \n",
              "7           13.989  https://skyserver.sdss.org/dr12/en/tools/explo...   \n",
              "8           33.320  https://skyserver.sdss.org/dr12/en/tools/explo...   \n",
              "9           21.887  https://skyserver.sdss.org/dr12/en/tools/explo...   \n",
              "10          71.100  https://skyserver.sdss.org/dr12/en/tools/explo...   \n",
              "11          26.193  https://skyserver.sdss.org/dr12/en/tools/explo...   \n",
              "12          21.619  https://skyserver.sdss.org/dr12/en/tools/explo...   \n",
              "13          22.967  https://skyserver.sdss.org/dr12/en/tools/explo...   \n",
              "14          47.325  https://skyserver.sdss.org/dr12/en/tools/explo...   \n",
              "15          80.933  https://skyserver.sdss.org/dr12/en/tools/explo...   \n",
              "16          11.589  https://skyserver.sdss.org/dr12/en/tools/explo...   \n",
              "17          16.537  https://skyserver.sdss.org/dr12/en/tools/explo...   \n",
              "18          60.000  https://skyserver.sdss.org/dr12/en/tools/explo...   \n",
              "19         106.000  https://skyserver.sdss.org/dr12/en/tools/explo...   \n",
              "20          88.571  https://skyserver.sdss.org/dr12/en/tools/explo...   \n",
              "21          30.500  https://skyserver.sdss.org/dr12/en/tools/explo...   \n",
              "22          72.000  https://skyserver.sdss.org/dr12/en/tools/explo...   \n",
              "23          54.775  https://skyserver.sdss.org/dr12/en/tools/explo...   \n",
              "24          55.333  https://skyserver.sdss.org/dr12/en/tools/explo...   \n",
              "\n",
              "   Velocity v (km/s)  \n",
              "0               None  \n",
              "1               None  \n",
              "2               None  \n",
              "3               None  \n",
              "4               None  \n",
              "5               None  \n",
              "6               None  \n",
              "7               None  \n",
              "8               None  \n",
              "9               None  \n",
              "10              None  \n",
              "11              None  \n",
              "12              None  \n",
              "13              None  \n",
              "14              None  \n",
              "15              None  \n",
              "16              None  \n",
              "17              None  \n",
              "18              None  \n",
              "19              None  \n",
              "20              None  \n",
              "21              None  \n",
              "22              None  \n",
              "23              None  \n",
              "24              None  "
            ],
            "text/html": [
              "\n",
              "  <div id=\"df-ea90434f-1958-4f3d-bece-b3626eb4900a\" class=\"colab-df-container\">\n",
              "    <div>\n",
              "<style scoped>\n",
              "    .dataframe tbody tr th:only-of-type {\n",
              "        vertical-align: middle;\n",
              "    }\n",
              "\n",
              "    .dataframe tbody tr th {\n",
              "        vertical-align: top;\n",
              "    }\n",
              "\n",
              "    .dataframe thead th {\n",
              "        text-align: right;\n",
              "    }\n",
              "</style>\n",
              "<table border=\"1\" class=\"dataframe\">\n",
              "  <thead>\n",
              "    <tr style=\"text-align: right;\">\n",
              "      <th></th>\n",
              "      <th>Galaxy name</th>\n",
              "      <th>Redshift Independent Distance</th>\n",
              "      <th>Distance (Mpc)</th>\n",
              "      <th>Spectral FITS</th>\n",
              "      <th>Velocity v (km/s)</th>\n",
              "    </tr>\n",
              "  </thead>\n",
              "  <tbody>\n",
              "    <tr>\n",
              "      <th>0</th>\n",
              "      <td>NGC 99</td>\n",
              "      <td>https://ned.ipac.caltech.edu/cgi-bin/nDistance...</td>\n",
              "      <td>29.100</td>\n",
              "      <td>https://skyserver.sdss.org/dr12/en/tools/explo...</td>\n",
              "      <td>None</td>\n",
              "    </tr>\n",
              "    <tr>\n",
              "      <th>1</th>\n",
              "      <td>NGC 2713</td>\n",
              "      <td>https://ned.ipac.caltech.edu/cgi-bin/nDistance...</td>\n",
              "      <td>61.344</td>\n",
              "      <td>https://skyserver.sdss.org/dr12/en/tools/explo...</td>\n",
              "      <td>None</td>\n",
              "    </tr>\n",
              "    <tr>\n",
              "      <th>2</th>\n",
              "      <td>NGC 3440</td>\n",
              "      <td>https://ned.ipac.caltech.edu/cgi-bin/nDistance...</td>\n",
              "      <td>40.533</td>\n",
              "      <td>https://skyserver.sdss.org/dr12/en/tools/explo...</td>\n",
              "      <td>None</td>\n",
              "    </tr>\n",
              "    <tr>\n",
              "      <th>3</th>\n",
              "      <td>NGC 7108</td>\n",
              "      <td>https://ned.ipac.caltech.edu/cgi-bin/nDistance...</td>\n",
              "      <td>92.950</td>\n",
              "      <td>https://skyserver.sdss.org/dr12/en/tools/explo...</td>\n",
              "      <td>None</td>\n",
              "    </tr>\n",
              "    <tr>\n",
              "      <th>4</th>\n",
              "      <td>NGC 450</td>\n",
              "      <td>https://ned.ipac.caltech.edu/cgi-bin/nDistance...</td>\n",
              "      <td>17.613</td>\n",
              "      <td>https://skyserver.sdss.org/dr12/en/tools/explo...</td>\n",
              "      <td>None</td>\n",
              "    </tr>\n",
              "    <tr>\n",
              "      <th>5</th>\n",
              "      <td>NGC 5750</td>\n",
              "      <td>https://ned.ipac.caltech.edu/cgi-bin/nDistance...</td>\n",
              "      <td>30.086</td>\n",
              "      <td>https://skyserver.sdss.org/dr12/en/tools/explo...</td>\n",
              "      <td>None</td>\n",
              "    </tr>\n",
              "    <tr>\n",
              "      <th>6</th>\n",
              "      <td>NGC 5719</td>\n",
              "      <td>https://ned.ipac.caltech.edu/cgi-bin/nDistance...</td>\n",
              "      <td>26.118</td>\n",
              "      <td>https://skyserver.sdss.org/dr12/en/tools/explo...</td>\n",
              "      <td>None</td>\n",
              "    </tr>\n",
              "    <tr>\n",
              "      <th>7</th>\n",
              "      <td>[BKD2008] WR 52</td>\n",
              "      <td>https://ned.ipac.caltech.edu/cgi-bin/nDistance...</td>\n",
              "      <td>13.989</td>\n",
              "      <td>https://skyserver.sdss.org/dr12/en/tools/explo...</td>\n",
              "      <td>None</td>\n",
              "    </tr>\n",
              "    <tr>\n",
              "      <th>8</th>\n",
              "      <td>NGC 5334</td>\n",
              "      <td>https://ned.ipac.caltech.edu/cgi-bin/nDistance...</td>\n",
              "      <td>33.320</td>\n",
              "      <td>https://skyserver.sdss.org/dr12/en/tools/explo...</td>\n",
              "      <td>None</td>\n",
              "    </tr>\n",
              "    <tr>\n",
              "      <th>9</th>\n",
              "      <td>NGC 5496</td>\n",
              "      <td>https://ned.ipac.caltech.edu/cgi-bin/nDistance...</td>\n",
              "      <td>21.887</td>\n",
              "      <td>https://skyserver.sdss.org/dr12/en/tools/explo...</td>\n",
              "      <td>None</td>\n",
              "    </tr>\n",
              "    <tr>\n",
              "      <th>10</th>\n",
              "      <td>MCG+00-34-005</td>\n",
              "      <td>https://ned.ipac.caltech.edu/cgi-bin/nDistance...</td>\n",
              "      <td>71.100</td>\n",
              "      <td>https://skyserver.sdss.org/dr12/en/tools/explo...</td>\n",
              "      <td>None</td>\n",
              "    </tr>\n",
              "    <tr>\n",
              "      <th>11</th>\n",
              "      <td>NGC 5705</td>\n",
              "      <td>https://ned.ipac.caltech.edu/cgi-bin/nDistance...</td>\n",
              "      <td>26.193</td>\n",
              "      <td>https://skyserver.sdss.org/dr12/en/tools/explo...</td>\n",
              "      <td>None</td>\n",
              "    </tr>\n",
              "    <tr>\n",
              "      <th>12</th>\n",
              "      <td>NGC 5584</td>\n",
              "      <td>https://ned.ipac.caltech.edu/cgi-bin/nDistance...</td>\n",
              "      <td>21.619</td>\n",
              "      <td>https://skyserver.sdss.org/dr12/en/tools/explo...</td>\n",
              "      <td>None</td>\n",
              "    </tr>\n",
              "    <tr>\n",
              "      <th>13</th>\n",
              "      <td>NGC 4355</td>\n",
              "      <td>https://ned.ipac.caltech.edu/cgi-bin/nDistance...</td>\n",
              "      <td>22.967</td>\n",
              "      <td>https://skyserver.sdss.org/dr12/en/tools/explo...</td>\n",
              "      <td>None</td>\n",
              "    </tr>\n",
              "    <tr>\n",
              "      <th>14</th>\n",
              "      <td>NGC 5211</td>\n",
              "      <td>https://ned.ipac.caltech.edu/cgi-bin/nDistance...</td>\n",
              "      <td>47.325</td>\n",
              "      <td>https://skyserver.sdss.org/dr12/en/tools/explo...</td>\n",
              "      <td>None</td>\n",
              "    </tr>\n",
              "    <tr>\n",
              "      <th>15</th>\n",
              "      <td>IC 653</td>\n",
              "      <td>https://ned.ipac.caltech.edu/cgi-bin/nDistance...</td>\n",
              "      <td>80.933</td>\n",
              "      <td>https://skyserver.sdss.org/dr12/en/tools/explo...</td>\n",
              "      <td>None</td>\n",
              "    </tr>\n",
              "    <tr>\n",
              "      <th>16</th>\n",
              "      <td>NGC 4592</td>\n",
              "      <td>https://ned.ipac.caltech.edu/cgi-bin/nDistance...</td>\n",
              "      <td>11.589</td>\n",
              "      <td>https://skyserver.sdss.org/dr12/en/tools/explo...</td>\n",
              "      <td>None</td>\n",
              "    </tr>\n",
              "    <tr>\n",
              "      <th>17</th>\n",
              "      <td>NGC 4668</td>\n",
              "      <td>https://ned.ipac.caltech.edu/cgi-bin/nDistance...</td>\n",
              "      <td>16.537</td>\n",
              "      <td>https://skyserver.sdss.org/dr12/en/tools/explo...</td>\n",
              "      <td>None</td>\n",
              "    </tr>\n",
              "    <tr>\n",
              "      <th>18</th>\n",
              "      <td>NGC 3325</td>\n",
              "      <td>https://ned.ipac.caltech.edu/cgi-bin/nDistance...</td>\n",
              "      <td>60.000</td>\n",
              "      <td>https://skyserver.sdss.org/dr12/en/tools/explo...</td>\n",
              "      <td>None</td>\n",
              "    </tr>\n",
              "    <tr>\n",
              "      <th>19</th>\n",
              "      <td>Mrk 778</td>\n",
              "      <td>https://ned.ipac.caltech.edu/cgi-bin/nDistance...</td>\n",
              "      <td>106.000</td>\n",
              "      <td>https://skyserver.sdss.org/dr12/en/tools/explo...</td>\n",
              "      <td>None</td>\n",
              "    </tr>\n",
              "    <tr>\n",
              "      <th>20</th>\n",
              "      <td>NGC 3719</td>\n",
              "      <td>https://ned.ipac.caltech.edu/cgi-bin/nDistance...</td>\n",
              "      <td>88.571</td>\n",
              "      <td>https://skyserver.sdss.org/dr12/en/tools/explo...</td>\n",
              "      <td>None</td>\n",
              "    </tr>\n",
              "    <tr>\n",
              "      <th>21</th>\n",
              "      <td>UGC 6903</td>\n",
              "      <td>https://ned.ipac.caltech.edu/cgi-bin/nDistance...</td>\n",
              "      <td>30.500</td>\n",
              "      <td>https://skyserver.sdss.org/dr12/en/tools/explo...</td>\n",
              "      <td>None</td>\n",
              "    </tr>\n",
              "    <tr>\n",
              "      <th>22</th>\n",
              "      <td>UGC 1083</td>\n",
              "      <td>https://ned.ipac.caltech.edu/cgi-bin/nDistance...</td>\n",
              "      <td>72.000</td>\n",
              "      <td>https://skyserver.sdss.org/dr12/en/tools/explo...</td>\n",
              "      <td>None</td>\n",
              "    </tr>\n",
              "    <tr>\n",
              "      <th>23</th>\n",
              "      <td>NGC 774</td>\n",
              "      <td>https://ned.ipac.caltech.edu/cgi-bin/nDistance...</td>\n",
              "      <td>54.775</td>\n",
              "      <td>https://skyserver.sdss.org/dr12/en/tools/explo...</td>\n",
              "      <td>None</td>\n",
              "    </tr>\n",
              "    <tr>\n",
              "      <th>24</th>\n",
              "      <td>NGC 1285</td>\n",
              "      <td>https://ned.ipac.caltech.edu/cgi-bin/nDistance...</td>\n",
              "      <td>55.333</td>\n",
              "      <td>https://skyserver.sdss.org/dr12/en/tools/explo...</td>\n",
              "      <td>None</td>\n",
              "    </tr>\n",
              "  </tbody>\n",
              "</table>\n",
              "</div>\n",
              "    <div class=\"colab-df-buttons\">\n",
              "\n",
              "  <div class=\"colab-df-container\">\n",
              "    <button class=\"colab-df-convert\" onclick=\"convertToInteractive('df-ea90434f-1958-4f3d-bece-b3626eb4900a')\"\n",
              "            title=\"Convert this dataframe to an interactive table.\"\n",
              "            style=\"display:none;\">\n",
              "\n",
              "  <svg xmlns=\"http://www.w3.org/2000/svg\" height=\"24px\" viewBox=\"0 -960 960 960\">\n",
              "    <path d=\"M120-120v-720h720v720H120Zm60-500h600v-160H180v160Zm220 220h160v-160H400v160Zm0 220h160v-160H400v160ZM180-400h160v-160H180v160Zm440 0h160v-160H620v160ZM180-180h160v-160H180v160Zm440 0h160v-160H620v160Z\"/>\n",
              "  </svg>\n",
              "    </button>\n",
              "\n",
              "  <style>\n",
              "    .colab-df-container {\n",
              "      display:flex;\n",
              "      gap: 12px;\n",
              "    }\n",
              "\n",
              "    .colab-df-convert {\n",
              "      background-color: #E8F0FE;\n",
              "      border: none;\n",
              "      border-radius: 50%;\n",
              "      cursor: pointer;\n",
              "      display: none;\n",
              "      fill: #1967D2;\n",
              "      height: 32px;\n",
              "      padding: 0 0 0 0;\n",
              "      width: 32px;\n",
              "    }\n",
              "\n",
              "    .colab-df-convert:hover {\n",
              "      background-color: #E2EBFA;\n",
              "      box-shadow: 0px 1px 2px rgba(60, 64, 67, 0.3), 0px 1px 3px 1px rgba(60, 64, 67, 0.15);\n",
              "      fill: #174EA6;\n",
              "    }\n",
              "\n",
              "    .colab-df-buttons div {\n",
              "      margin-bottom: 4px;\n",
              "    }\n",
              "\n",
              "    [theme=dark] .colab-df-convert {\n",
              "      background-color: #3B4455;\n",
              "      fill: #D2E3FC;\n",
              "    }\n",
              "\n",
              "    [theme=dark] .colab-df-convert:hover {\n",
              "      background-color: #434B5C;\n",
              "      box-shadow: 0px 1px 3px 1px rgba(0, 0, 0, 0.15);\n",
              "      filter: drop-shadow(0px 1px 2px rgba(0, 0, 0, 0.3));\n",
              "      fill: #FFFFFF;\n",
              "    }\n",
              "  </style>\n",
              "\n",
              "    <script>\n",
              "      const buttonEl =\n",
              "        document.querySelector('#df-ea90434f-1958-4f3d-bece-b3626eb4900a button.colab-df-convert');\n",
              "      buttonEl.style.display =\n",
              "        google.colab.kernel.accessAllowed ? 'block' : 'none';\n",
              "\n",
              "      async function convertToInteractive(key) {\n",
              "        const element = document.querySelector('#df-ea90434f-1958-4f3d-bece-b3626eb4900a');\n",
              "        const dataTable =\n",
              "          await google.colab.kernel.invokeFunction('convertToInteractive',\n",
              "                                                    [key], {});\n",
              "        if (!dataTable) return;\n",
              "\n",
              "        const docLinkHtml = 'Like what you see? Visit the ' +\n",
              "          '<a target=\"_blank\" href=https://colab.research.google.com/notebooks/data_table.ipynb>data table notebook</a>'\n",
              "          + ' to learn more about interactive tables.';\n",
              "        element.innerHTML = '';\n",
              "        dataTable['output_type'] = 'display_data';\n",
              "        await google.colab.output.renderOutput(dataTable, element);\n",
              "        const docLink = document.createElement('div');\n",
              "        docLink.innerHTML = docLinkHtml;\n",
              "        element.appendChild(docLink);\n",
              "      }\n",
              "    </script>\n",
              "  </div>\n",
              "\n",
              "\n",
              "<div id=\"df-6cd51838-12a8-431b-8e85-f66891b68f12\">\n",
              "  <button class=\"colab-df-quickchart\" onclick=\"quickchart('df-6cd51838-12a8-431b-8e85-f66891b68f12')\"\n",
              "            title=\"Suggest charts\"\n",
              "            style=\"display:none;\">\n",
              "\n",
              "<svg xmlns=\"http://www.w3.org/2000/svg\" height=\"24px\"viewBox=\"0 0 24 24\"\n",
              "     width=\"24px\">\n",
              "    <g>\n",
              "        <path d=\"M19 3H5c-1.1 0-2 .9-2 2v14c0 1.1.9 2 2 2h14c1.1 0 2-.9 2-2V5c0-1.1-.9-2-2-2zM9 17H7v-7h2v7zm4 0h-2V7h2v10zm4 0h-2v-4h2v4z\"/>\n",
              "    </g>\n",
              "</svg>\n",
              "  </button>\n",
              "\n",
              "<style>\n",
              "  .colab-df-quickchart {\n",
              "      --bg-color: #E8F0FE;\n",
              "      --fill-color: #1967D2;\n",
              "      --hover-bg-color: #E2EBFA;\n",
              "      --hover-fill-color: #174EA6;\n",
              "      --disabled-fill-color: #AAA;\n",
              "      --disabled-bg-color: #DDD;\n",
              "  }\n",
              "\n",
              "  [theme=dark] .colab-df-quickchart {\n",
              "      --bg-color: #3B4455;\n",
              "      --fill-color: #D2E3FC;\n",
              "      --hover-bg-color: #434B5C;\n",
              "      --hover-fill-color: #FFFFFF;\n",
              "      --disabled-bg-color: #3B4455;\n",
              "      --disabled-fill-color: #666;\n",
              "  }\n",
              "\n",
              "  .colab-df-quickchart {\n",
              "    background-color: var(--bg-color);\n",
              "    border: none;\n",
              "    border-radius: 50%;\n",
              "    cursor: pointer;\n",
              "    display: none;\n",
              "    fill: var(--fill-color);\n",
              "    height: 32px;\n",
              "    padding: 0;\n",
              "    width: 32px;\n",
              "  }\n",
              "\n",
              "  .colab-df-quickchart:hover {\n",
              "    background-color: var(--hover-bg-color);\n",
              "    box-shadow: 0 1px 2px rgba(60, 64, 67, 0.3), 0 1px 3px 1px rgba(60, 64, 67, 0.15);\n",
              "    fill: var(--button-hover-fill-color);\n",
              "  }\n",
              "\n",
              "  .colab-df-quickchart-complete:disabled,\n",
              "  .colab-df-quickchart-complete:disabled:hover {\n",
              "    background-color: var(--disabled-bg-color);\n",
              "    fill: var(--disabled-fill-color);\n",
              "    box-shadow: none;\n",
              "  }\n",
              "\n",
              "  .colab-df-spinner {\n",
              "    border: 2px solid var(--fill-color);\n",
              "    border-color: transparent;\n",
              "    border-bottom-color: var(--fill-color);\n",
              "    animation:\n",
              "      spin 1s steps(1) infinite;\n",
              "  }\n",
              "\n",
              "  @keyframes spin {\n",
              "    0% {\n",
              "      border-color: transparent;\n",
              "      border-bottom-color: var(--fill-color);\n",
              "      border-left-color: var(--fill-color);\n",
              "    }\n",
              "    20% {\n",
              "      border-color: transparent;\n",
              "      border-left-color: var(--fill-color);\n",
              "      border-top-color: var(--fill-color);\n",
              "    }\n",
              "    30% {\n",
              "      border-color: transparent;\n",
              "      border-left-color: var(--fill-color);\n",
              "      border-top-color: var(--fill-color);\n",
              "      border-right-color: var(--fill-color);\n",
              "    }\n",
              "    40% {\n",
              "      border-color: transparent;\n",
              "      border-right-color: var(--fill-color);\n",
              "      border-top-color: var(--fill-color);\n",
              "    }\n",
              "    60% {\n",
              "      border-color: transparent;\n",
              "      border-right-color: var(--fill-color);\n",
              "    }\n",
              "    80% {\n",
              "      border-color: transparent;\n",
              "      border-right-color: var(--fill-color);\n",
              "      border-bottom-color: var(--fill-color);\n",
              "    }\n",
              "    90% {\n",
              "      border-color: transparent;\n",
              "      border-bottom-color: var(--fill-color);\n",
              "    }\n",
              "  }\n",
              "</style>\n",
              "\n",
              "  <script>\n",
              "    async function quickchart(key) {\n",
              "      const quickchartButtonEl =\n",
              "        document.querySelector('#' + key + ' button');\n",
              "      quickchartButtonEl.disabled = true;  // To prevent multiple clicks.\n",
              "      quickchartButtonEl.classList.add('colab-df-spinner');\n",
              "      try {\n",
              "        const charts = await google.colab.kernel.invokeFunction(\n",
              "            'suggestCharts', [key], {});\n",
              "      } catch (error) {\n",
              "        console.error('Error during call to suggestCharts:', error);\n",
              "      }\n",
              "      quickchartButtonEl.classList.remove('colab-df-spinner');\n",
              "      quickchartButtonEl.classList.add('colab-df-quickchart-complete');\n",
              "    }\n",
              "    (() => {\n",
              "      let quickchartButtonEl =\n",
              "        document.querySelector('#df-6cd51838-12a8-431b-8e85-f66891b68f12 button');\n",
              "      quickchartButtonEl.style.display =\n",
              "        google.colab.kernel.accessAllowed ? 'block' : 'none';\n",
              "    })();\n",
              "  </script>\n",
              "</div>\n",
              "\n",
              "  <div id=\"id_4fff2aaf-f88c-4c48-a346-0428b5265be5\">\n",
              "    <style>\n",
              "      .colab-df-generate {\n",
              "        background-color: #E8F0FE;\n",
              "        border: none;\n",
              "        border-radius: 50%;\n",
              "        cursor: pointer;\n",
              "        display: none;\n",
              "        fill: #1967D2;\n",
              "        height: 32px;\n",
              "        padding: 0 0 0 0;\n",
              "        width: 32px;\n",
              "      }\n",
              "\n",
              "      .colab-df-generate:hover {\n",
              "        background-color: #E2EBFA;\n",
              "        box-shadow: 0px 1px 2px rgba(60, 64, 67, 0.3), 0px 1px 3px 1px rgba(60, 64, 67, 0.15);\n",
              "        fill: #174EA6;\n",
              "      }\n",
              "\n",
              "      [theme=dark] .colab-df-generate {\n",
              "        background-color: #3B4455;\n",
              "        fill: #D2E3FC;\n",
              "      }\n",
              "\n",
              "      [theme=dark] .colab-df-generate:hover {\n",
              "        background-color: #434B5C;\n",
              "        box-shadow: 0px 1px 3px 1px rgba(0, 0, 0, 0.15);\n",
              "        filter: drop-shadow(0px 1px 2px rgba(0, 0, 0, 0.3));\n",
              "        fill: #FFFFFF;\n",
              "      }\n",
              "    </style>\n",
              "    <button class=\"colab-df-generate\" onclick=\"generateWithVariable('df')\"\n",
              "            title=\"Generate code using this dataframe.\"\n",
              "            style=\"display:none;\">\n",
              "\n",
              "  <svg xmlns=\"http://www.w3.org/2000/svg\" height=\"24px\"viewBox=\"0 0 24 24\"\n",
              "       width=\"24px\">\n",
              "    <path d=\"M7,19H8.4L18.45,9,17,7.55,7,17.6ZM5,21V16.75L18.45,3.32a2,2,0,0,1,2.83,0l1.4,1.43a1.91,1.91,0,0,1,.58,1.4,1.91,1.91,0,0,1-.58,1.4L9.25,21ZM18.45,9,17,7.55Zm-12,3A5.31,5.31,0,0,0,4.9,8.1,5.31,5.31,0,0,0,1,6.5,5.31,5.31,0,0,0,4.9,4.9,5.31,5.31,0,0,0,6.5,1,5.31,5.31,0,0,0,8.1,4.9,5.31,5.31,0,0,0,12,6.5,5.46,5.46,0,0,0,6.5,12Z\"/>\n",
              "  </svg>\n",
              "    </button>\n",
              "    <script>\n",
              "      (() => {\n",
              "      const buttonEl =\n",
              "        document.querySelector('#id_4fff2aaf-f88c-4c48-a346-0428b5265be5 button.colab-df-generate');\n",
              "      buttonEl.style.display =\n",
              "        google.colab.kernel.accessAllowed ? 'block' : 'none';\n",
              "\n",
              "      buttonEl.onclick = () => {\n",
              "        google.colab.notebook.generateWithVariable('df');\n",
              "      }\n",
              "      })();\n",
              "    </script>\n",
              "  </div>\n",
              "\n",
              "    </div>\n",
              "  </div>\n"
            ],
            "application/vnd.google.colaboratory.intrinsic+json": {
              "type": "dataframe",
              "variable_name": "df",
              "summary": "{\n  \"name\": \"df\",\n  \"rows\": 25,\n  \"fields\": [\n    {\n      \"column\": \"Galaxy name\",\n      \"properties\": {\n        \"dtype\": \"string\",\n        \"num_unique_values\": 25,\n        \"samples\": [\n          \"NGC 5334\",\n          \"NGC 4592\",\n          \"NGC 99\"\n        ],\n        \"semantic_type\": \"\",\n        \"description\": \"\"\n      }\n    },\n    {\n      \"column\": \"Redshift Independent Distance\",\n      \"properties\": {\n        \"dtype\": \"string\",\n        \"num_unique_values\": 25,\n        \"samples\": [\n          \"https://ned.ipac.caltech.edu/cgi-bin/nDistance?name=NGC+5334\",\n          \"https://ned.ipac.caltech.edu/cgi-bin/nDistance?name=NGC+4592\",\n          \"https://ned.ipac.caltech.edu/cgi-bin/nDistance?name=NGC+99\"\n        ],\n        \"semantic_type\": \"\",\n        \"description\": \"\"\n      }\n    },\n    {\n      \"column\": \"Distance (Mpc)\",\n      \"properties\": {\n        \"dtype\": \"number\",\n        \"std\": 27.442590078379993,\n        \"min\": 11.589,\n        \"max\": 106.0,\n        \"num_unique_values\": 25,\n        \"samples\": [\n          33.32,\n          11.589,\n          29.1\n        ],\n        \"semantic_type\": \"\",\n        \"description\": \"\"\n      }\n    },\n    {\n      \"column\": \"Spectral FITS\",\n      \"properties\": {\n        \"dtype\": \"string\",\n        \"num_unique_values\": 25,\n        \"samples\": [\n          \"https://skyserver.sdss.org/dr12/en/tools/explore/Summary.aspx?ra=208.227&dec=-1.114\",\n          \"https://skyserver.sdss.org/dr12/en/tools/explore/summary.aspx?id=1237648720698146893%09\",\n          \"https://skyserver.sdss.org/dr12/en/tools/explore/Summary.aspx?ra=5.99747&dec=15.770428\"\n        ],\n        \"semantic_type\": \"\",\n        \"description\": \"\"\n      }\n    },\n    {\n      \"column\": \"Velocity v (km/s)\",\n      \"properties\": {\n        \"dtype\": \"category\",\n        \"num_unique_values\": 1,\n        \"samples\": [\n          \"None\"\n        ],\n        \"semantic_type\": \"\",\n        \"description\": \"\"\n      }\n    }\n  ]\n}"
            }
          },
          "metadata": {},
          "execution_count": 29
        }
      ]
    },
    {
      "cell_type": "markdown",
      "source": [
        "The last thing we'll need to do is save the speed of light as a variable called \"c\", which we'll use to convert redshifts to recessional velocities later! We can save it in km/s."
      ],
      "metadata": {
        "id": "UJTv1z-GiVFw"
      }
    },
    {
      "cell_type": "code",
      "source": [
        "c = 299792 #speed of light in km/s"
      ],
      "metadata": {
        "id": "RDJExtw4JKii"
      },
      "execution_count": 23,
      "outputs": []
    },
    {
      "cell_type": "markdown",
      "source": [
        "## Next we'll graph the spectra of galaxies and find their emission lines\n",
        "\n",
        "We'll first define a few functions to generate Gaussian-shaped emission lines, then to calculate both redshifts and recessional velocities."
      ],
      "metadata": {
        "id": "_P5knO5gJRLq"
      }
    },
    {
      "cell_type": "code",
      "source": [
        "def gauss(x, A, mu, sigma, c):\n",
        "    return (A * np.exp(-(x - mu)**2 / (2 * sigma**2))) + c"
      ],
      "metadata": {
        "id": "1Imzx2RtJcVO"
      },
      "execution_count": 24,
      "outputs": []
    },
    {
      "cell_type": "code",
      "source": [
        "def get_redshift(lamo, lame):       # writing the redshift function\n",
        "    return (lamo-lame)/lame         # lamo = observed wavelength\n",
        "                                    # lame = emitted wavelength\n",
        "\n",
        "def recessional_velocity(z):        # writing the recessional velocity function\n",
        "    v = z*c                         # z = redshift, c = speed of light\n",
        "    return v"
      ],
      "metadata": {
        "id": "BdsYE_DywZEM"
      },
      "execution_count": 25,
      "outputs": []
    },
    {
      "cell_type": "markdown",
      "source": [
        "Next, let's plot our galaxy! Change the filename in the following cell to match the galaxy you've been assigned!"
      ],
      "metadata": {
        "id": "j1FlobXwjzBo"
      }
    },
    {
      "cell_type": "code",
      "source": [
        "filename = 'NGC99.fits' ###CHANGE ME TO MATCH THE FILENAME ENTRY FOR YOUR GALAXY!\n",
        "\n",
        "hdul = fits.open('secs9to11_data/'+str(filename))   # hdul = Header Data Unit list\n",
        "print(hdul[1].columns)                          # checking what the header data looks like\n",
        "\n",
        "# now we can create lists from the data in the FITS file\n",
        "spec = hdul[1].data['flux']                     # let's call flux \"spec(trum)\"...\n",
        "waves = 10**hdul[1].data['loglam']              # ...and loglam \"waves\" (raising everything to the power of 10)\n",
        "\n",
        "fig = plt.figure()\n",
        "fig.set_size_inches(12,4)\n",
        "\n",
        "\n",
        "plt.plot(waves, spec)\n",
        "plt.xlabel(\"wavelength, Angstroms\")\n",
        "plt.ylabel(\"flux\")"
      ],
      "metadata": {
        "colab": {
          "base_uri": "https://localhost:8080/",
          "height": 599
        },
        "id": "PFMEnU2YwhIv",
        "outputId": "61c5d233-f161-4490-8736-8fc8cbc13147"
      },
      "execution_count": 26,
      "outputs": [
        {
          "output_type": "stream",
          "name": "stdout",
          "text": [
            "ColDefs(\n",
            "    name = 'flux'; format = 'E'\n",
            "    name = 'loglam'; format = 'E'\n",
            "    name = 'ivar'; format = 'E'\n",
            "    name = 'and_mask'; format = 'J'\n",
            "    name = 'or_mask'; format = 'J'\n",
            "    name = 'wdisp'; format = 'E'\n",
            "    name = 'sky'; format = 'E'\n",
            "    name = 'model'; format = 'E'\n",
            ")\n"
          ]
        },
        {
          "output_type": "execute_result",
          "data": {
            "text/plain": [
              "Text(0, 0.5, 'flux')"
            ]
          },
          "metadata": {},
          "execution_count": 26
        },
        {
          "output_type": "display_data",
          "data": {
            "text/plain": [
              "<Figure size 1200x400 with 1 Axes>"
            ],
            "image/png": "[encoded data removed]"
          },
          "metadata": {}
        }
      ]
    },
    {
      "cell_type": "markdown",
      "source": [
        "The cell below will zoom in on a portion of the spectrum that you'll tune to span the H-alpha line. In order to check that your limits are right, copy the link to the SDSS spectral explorer for your galaxy, in the \"Spectral FITS\" entry of the table row. Paste that into your browser in a new tab. You'll see a page with lots of info about your galaxy, including a plot of a spectrum with some lines labeled. Click on the spectrum to find H-alpha, and then change the min and max x values in the cell below based on its location!"
      ],
      "metadata": {
        "id": "pxwgnvanl02u"
      }
    },
    {
      "cell_type": "code",
      "source": [
        "x_min = 6600 ###CHANGE ME TO SET MINIMUM WAVELENGTH\n",
        "x_max = 6800 ###CHANGE ME TO SET MAXIMUM WAVELENGTH\n",
        "\n",
        "mask = (waves >= x_min) & (waves <= x_max)\n",
        "waves2 = waves[mask]\n",
        "spec2 = spec[mask]\n",
        "\n",
        "\n",
        "fig = plt.figure()\n",
        "fig.set_size_inches(12,4)\n",
        "\n",
        "\n",
        "plt.plot(waves2, spec2)\n",
        "plt.ylabel(\"flux\")"
      ],
      "metadata": {
        "colab": {
          "base_uri": "https://localhost:8080/",
          "height": 405
        },
        "id": "PbwyxbJXwu0g",
        "outputId": "3fb21e93-83a2-4ceb-8cad-48b0e573eb75"
      },
      "execution_count": 30,
      "outputs": [
        {
          "output_type": "execute_result",
          "data": {
            "text/plain": [
              "Text(0, 0.5, 'flux')"
            ]
          },
          "metadata": {},
          "execution_count": 30
        },
        {
          "output_type": "display_data",
          "data": {
            "text/plain": [
              "<Figure size 1200x400 with 1 Axes>"
            ],
            "image/png": "[encoded data removed]"
          },
          "metadata": {}
        }
      ]
    },
    {
      "cell_type": "markdown",
      "source": [
        "In the next cell, we'll fit a Gaussian to our H alpha line! Change the list of values after initial guess to your best guesses of:\n",
        "\n",
        "1) The peak flux value of the H-alpha line\n",
        "\n",
        "2) The central wavelength value of the H-alpha line\n",
        "\n",
        "3) The rough width of the H-alpha line (this one you should be able to leave at 1.5)\n",
        "\n",
        "4) The continuum level\n",
        "\n",
        "When you execute the cell, it will use those guesses to optimize your gaussian. Tune those values until the cell produces a plot with a red line that matches your H-alpha line."
      ],
      "metadata": {
        "id": "AXtYbjwqnLO3"
      }
    },
    {
      "cell_type": "code",
      "source": [
        "# Fit the Gaussian profile to the data\n",
        "initial_guess = [160, 6680, 1.5, 60]  # A, mu, sigma, c   NGC99\n",
        "\n",
        "fit_params, _ = curve_fit(gauss, waves2, spec2, p0=initial_guess)\n",
        "\n",
        "\n",
        "...\n",
        "\n",
        "# Print the fitted parameters\n",
        "print(\"Fitted Parameters:\")\n",
        "print(\"Amplitude:\", fit_params[0])\n",
        "print(\"Mean:\", fit_params[1])\n",
        "print(\"Standard Deviation:\", fit_params[2])\n",
        "print(\"Continuum Level:\", fit_params[3])\n",
        "\n",
        "\n",
        "# Plot the original data and the fitted Gaussian\n",
        "plt.plot(waves2, spec2, label=\"Spectral Data\")\n",
        "plt.plot(waves2, gauss(waves2, *fit_params), color='red', label=\"Fitted Gaussian\")\n",
        "plt.legend()\n",
        "plt.xlabel(\"wavelength (Angstroms)\")\n",
        "plt.ylabel(\"flux\")\n",
        "plt.title(\"Fitting Gaussian to Spectrum\")"
      ],
      "metadata": {
        "colab": {
          "base_uri": "https://localhost:8080/",
          "height": 576
        },
        "id": "oukhk1I9w2_n",
        "outputId": "5b2af802-5d29-4abc-b2ef-584c8385ba44"
      },
      "execution_count": 31,
      "outputs": [
        {
          "output_type": "stream",
          "name": "stdout",
          "text": [
            "Fitted Parameters:\n",
            "Amplitude: 139.95641617301686\n",
            "Mean: 6680.8738245085\n",
            "Standard Deviation: 1.6199143174600907\n",
            "Continuum Level: 32.441683251238\n"
          ]
        },
        {
          "output_type": "execute_result",
          "data": {
            "text/plain": [
              "Text(0.5, 1.0, 'Fitting Gaussian to Spectrum')"
            ]
          },
          "metadata": {},
          "execution_count": 31
        },
        {
          "output_type": "display_data",
          "data": {
            "text/plain": [
              "<Figure size 640x480 with 1 Axes>"
            ],
            "image/png": "[encoded data removed]"
          },
          "metadata": {}
        }
      ]
    },
    {
      "cell_type": "markdown",
      "source": [
        "We can now use our line's central wavelength to calculate a redshift! Let's do that and print it."
      ],
      "metadata": {
        "id": "YbYf78EQn2A2"
      }
    },
    {
      "cell_type": "code",
      "source": [
        "lamo = fit_params[1]  # Gaussian mean         # the emitted wavelength from this galaxy is the mean of the fitted function\n",
        "lamr = 6563                                   # the original wavelength of this band is about 6563 angstrom\n",
        "z = get_redshift(lamo, lamr)\n",
        "z"
      ],
      "metadata": {
        "id": "qB89wpyfnFHZ",
        "outputId": "c680d3be-0619-4037-d945-d46fe326ccf3",
        "colab": {
          "base_uri": "https://localhost:8080/"
        }
      },
      "execution_count": 32,
      "outputs": [
        {
          "output_type": "execute_result",
          "data": {
            "text/plain": [
              "0.017960357231220424"
            ]
          },
          "metadata": {},
          "execution_count": 32
        }
      ]
    },
    {
      "cell_type": "markdown",
      "source": [
        "# Calculate velocities from redshifts"
      ],
      "metadata": {
        "id": "iY4n_NVMJU5M"
      }
    },
    {
      "cell_type": "markdown",
      "source": [
        "At this point, we should have, as a class, generated a list of redshifts! Enter that list in order in the following cell."
      ],
      "metadata": {
        "id": "vxhd3md1oAKS"
      }
    },
    {
      "cell_type": "code",
      "source": [
        "z_list = [\n",
        "          0.01796,  #0\n",
        "                  , #1\n",
        "                  , #2\n",
        "                  , #3\n",
        "                  , #4\n",
        "                  , #5\n",
        "                  , #6\n",
        "                  , #7\n",
        "                  , #8\n",
        "                  , #9\n",
        "                  , #10\n",
        "                  , #11\n",
        "                  , #12\n",
        "                  , #13\n",
        "                  , #14\n",
        "                  , #15\n",
        "                  , #16\n",
        "                  , #17\n",
        "                  , #18\n",
        "                  , #19\n",
        "                  , #20\n",
        "                  , #21\n",
        "                  , #22\n",
        "                  , #23\n",
        "                  , #24\n",
        "          ]"
      ],
      "metadata": {
        "id": "jlaiTsWvoKdK"
      },
      "execution_count": null,
      "outputs": []
    },
    {
      "cell_type": "code",
      "source": [
        "v = recessional_velocity(z)\n",
        "\n",
        "\n",
        "print(\"redshift:\", z)\n",
        "print(\"recessional velocity: \", v)"
      ],
      "metadata": {
        "colab": {
          "base_uri": "https://localhost:8080/"
        },
        "id": "zmxt51QjxI_y",
        "outputId": "ab29c1cb-6408-42c0-8aa8-e95e9fe7ef07"
      },
      "execution_count": null,
      "outputs": [
        {
          "output_type": "stream",
          "name": "stdout",
          "text": [
            "redshift: 0.017960357231220424\n",
            "recessional velocity:  5384.3714150620335\n"
          ]
        }
      ]
    },
    {
      "cell_type": "code",
      "source": [
        "df.loc[0,'Velocity v (km/s)'] = v"
      ],
      "metadata": {
        "id": "477mVIZpxtKw"
      },
      "execution_count": null,
      "outputs": []
    },
    {
      "cell_type": "markdown",
      "source": [
        "# Plot velocity against distance and fit a line to the data"
      ],
      "metadata": {
        "id": "5RI_q2zlJY1-"
      }
    },
    {
      "cell_type": "code",
      "source": [
        "x = df['Distance (Mpc)'].to_numpy()\n",
        "y = df['Velocity v (km/s)'].to_numpy()\n",
        "\n",
        "\n",
        "plt.scatter(x,y)\n",
        "plt.xlabel(\"Distance (Mpc)\")\n",
        "plt.ylabel(\"Velocity (km/s)\")"
      ],
      "metadata": {
        "id": "wpXqyG0IJBV-",
        "colab": {
          "base_uri": "https://localhost:8080/",
          "height": 826
        },
        "outputId": "741f13c1-8612-41ec-fa4e-60387844ad47"
      },
      "execution_count": null,
      "outputs": [
        {
          "output_type": "error",
          "ename": "ValueError",
          "evalue": "could not convert string to float: 'None'",
          "traceback": [
            "\u001b[0;31m---------------------------------------------------------------------------\u001b[0m",
            "\u001b[0;31mValueError\u001b[0m                                Traceback (most recent call last)",
            "\u001b[0;32m<ipython-input-34-9df9bce98386>\u001b[0m in \u001b[0;36m<cell line: 0>\u001b[0;34m()\u001b[0m\n\u001b[1;32m      3\u001b[0m \u001b[0;34m\u001b[0m\u001b[0m\n\u001b[1;32m      4\u001b[0m \u001b[0;34m\u001b[0m\u001b[0m\n\u001b[0;32m----> 5\u001b[0;31m \u001b[0mplt\u001b[0m\u001b[0;34m.\u001b[0m\u001b[0mscatter\u001b[0m\u001b[0;34m(\u001b[0m\u001b[0mx\u001b[0m\u001b[0;34m,\u001b[0m\u001b[0my\u001b[0m\u001b[0;34m)\u001b[0m\u001b[0;34m\u001b[0m\u001b[0;34m\u001b[0m\u001b[0m\n\u001b[0m\u001b[1;32m      6\u001b[0m \u001b[0mplt\u001b[0m\u001b[0;34m.\u001b[0m\u001b[0mxlabel\u001b[0m\u001b[0;34m(\u001b[0m\u001b[0;34m\"Distance (Mpc)\"\u001b[0m\u001b[0;34m)\u001b[0m\u001b[0;34m\u001b[0m\u001b[0;34m\u001b[0m\u001b[0m\n\u001b[1;32m      7\u001b[0m \u001b[0mplt\u001b[0m\u001b[0;34m.\u001b[0m\u001b[0mylabel\u001b[0m\u001b[0;34m(\u001b[0m\u001b[0;34m\"Velocity (km/s)\"\u001b[0m\u001b[0;34m)\u001b[0m\u001b[0;34m\u001b[0m\u001b[0;34m\u001b[0m\u001b[0m\n",
            "\u001b[0;32m/usr/local/lib/python3.11/dist-packages/matplotlib/_api/deprecation.py\u001b[0m in \u001b[0;36mwrapper\u001b[0;34m(*args, **kwargs)\u001b[0m\n\u001b[1;32m    451\u001b[0m                 \u001b[0;34m\"parameter will become keyword-only in %(removal)s.\"\u001b[0m\u001b[0;34m,\u001b[0m\u001b[0;34m\u001b[0m\u001b[0;34m\u001b[0m\u001b[0m\n\u001b[1;32m    452\u001b[0m                 name=name, obj_type=f\"parameter of {func.__name__}()\")\n\u001b[0;32m--> 453\u001b[0;31m         \u001b[0;32mreturn\u001b[0m \u001b[0mfunc\u001b[0m\u001b[0;34m(\u001b[0m\u001b[0;34m*\u001b[0m\u001b[0margs\u001b[0m\u001b[0;34m,\u001b[0m \u001b[0;34m**\u001b[0m\u001b[0mkwargs\u001b[0m\u001b[0;34m)\u001b[0m\u001b[0;34m\u001b[0m\u001b[0;34m\u001b[0m\u001b[0m\n\u001b[0m\u001b[1;32m    454\u001b[0m \u001b[0;34m\u001b[0m\u001b[0m\n\u001b[1;32m    455\u001b[0m     \u001b[0;31m# Don't modify *func*'s signature, as boilerplate.py needs it.\u001b[0m\u001b[0;34m\u001b[0m\u001b[0;34m\u001b[0m\u001b[0m\n",
            "\u001b[0;32m/usr/local/lib/python3.11/dist-packages/matplotlib/pyplot.py\u001b[0m in \u001b[0;36mscatter\u001b[0;34m(x, y, s, c, marker, cmap, norm, vmin, vmax, alpha, linewidths, edgecolors, colorizer, plotnonfinite, data, **kwargs)\u001b[0m\n\u001b[1;32m   3937\u001b[0m     \u001b[0;34m**\u001b[0m\u001b[0mkwargs\u001b[0m\u001b[0;34m,\u001b[0m\u001b[0;34m\u001b[0m\u001b[0;34m\u001b[0m\u001b[0m\n\u001b[1;32m   3938\u001b[0m ) -> PathCollection:\n\u001b[0;32m-> 3939\u001b[0;31m     __ret = gca().scatter(\n\u001b[0m\u001b[1;32m   3940\u001b[0m         \u001b[0mx\u001b[0m\u001b[0;34m,\u001b[0m\u001b[0;34m\u001b[0m\u001b[0;34m\u001b[0m\u001b[0m\n\u001b[1;32m   3941\u001b[0m         \u001b[0my\u001b[0m\u001b[0;34m,\u001b[0m\u001b[0;34m\u001b[0m\u001b[0;34m\u001b[0m\u001b[0m\n",
            "\u001b[0;32m/usr/local/lib/python3.11/dist-packages/matplotlib/_api/deprecation.py\u001b[0m in \u001b[0;36mwrapper\u001b[0;34m(*args, **kwargs)\u001b[0m\n\u001b[1;32m    451\u001b[0m                 \u001b[0;34m\"parameter will become keyword-only in %(removal)s.\"\u001b[0m\u001b[0;34m,\u001b[0m\u001b[0;34m\u001b[0m\u001b[0;34m\u001b[0m\u001b[0m\n\u001b[1;32m    452\u001b[0m                 name=name, obj_type=f\"parameter of {func.__name__}()\")\n\u001b[0;32m--> 453\u001b[0;31m         \u001b[0;32mreturn\u001b[0m \u001b[0mfunc\u001b[0m\u001b[0;34m(\u001b[0m\u001b[0;34m*\u001b[0m\u001b[0margs\u001b[0m\u001b[0;34m,\u001b[0m \u001b[0;34m**\u001b[0m\u001b[0mkwargs\u001b[0m\u001b[0;34m)\u001b[0m\u001b[0;34m\u001b[0m\u001b[0;34m\u001b[0m\u001b[0m\n\u001b[0m\u001b[1;32m    454\u001b[0m \u001b[0;34m\u001b[0m\u001b[0m\n\u001b[1;32m    455\u001b[0m     \u001b[0;31m# Don't modify *func*'s signature, as boilerplate.py needs it.\u001b[0m\u001b[0;34m\u001b[0m\u001b[0;34m\u001b[0m\u001b[0m\n",
            "\u001b[0;32m/usr/local/lib/python3.11/dist-packages/matplotlib/__init__.py\u001b[0m in \u001b[0;36minner\u001b[0;34m(ax, data, *args, **kwargs)\u001b[0m\n\u001b[1;32m   1519\u001b[0m     \u001b[0;32mdef\u001b[0m \u001b[0minner\u001b[0m\u001b[0;34m(\u001b[0m\u001b[0max\u001b[0m\u001b[0;34m,\u001b[0m \u001b[0;34m*\u001b[0m\u001b[0margs\u001b[0m\u001b[0;34m,\u001b[0m \u001b[0mdata\u001b[0m\u001b[0;34m=\u001b[0m\u001b[0;32mNone\u001b[0m\u001b[0;34m,\u001b[0m \u001b[0;34m**\u001b[0m\u001b[0mkwargs\u001b[0m\u001b[0;34m)\u001b[0m\u001b[0;34m:\u001b[0m\u001b[0;34m\u001b[0m\u001b[0;34m\u001b[0m\u001b[0m\n\u001b[1;32m   1520\u001b[0m         \u001b[0;32mif\u001b[0m \u001b[0mdata\u001b[0m \u001b[0;32mis\u001b[0m \u001b[0;32mNone\u001b[0m\u001b[0;34m:\u001b[0m\u001b[0;34m\u001b[0m\u001b[0;34m\u001b[0m\u001b[0m\n\u001b[0;32m-> 1521\u001b[0;31m             return func(\n\u001b[0m\u001b[1;32m   1522\u001b[0m                 \u001b[0max\u001b[0m\u001b[0;34m,\u001b[0m\u001b[0;34m\u001b[0m\u001b[0;34m\u001b[0m\u001b[0m\n\u001b[1;32m   1523\u001b[0m                 \u001b[0;34m*\u001b[0m\u001b[0mmap\u001b[0m\u001b[0;34m(\u001b[0m\u001b[0mcbook\u001b[0m\u001b[0;34m.\u001b[0m\u001b[0msanitize_sequence\u001b[0m\u001b[0;34m,\u001b[0m \u001b[0margs\u001b[0m\u001b[0;34m)\u001b[0m\u001b[0;34m,\u001b[0m\u001b[0;34m\u001b[0m\u001b[0;34m\u001b[0m\u001b[0m\n",
            "\u001b[0;32m/usr/local/lib/python3.11/dist-packages/matplotlib/axes/_axes.py\u001b[0m in \u001b[0;36mscatter\u001b[0;34m(self, x, y, s, c, marker, cmap, norm, vmin, vmax, alpha, linewidths, edgecolors, colorizer, plotnonfinite, **kwargs)\u001b[0m\n\u001b[1;32m   4987\u001b[0m         \u001b[0moffsets\u001b[0m \u001b[0;34m=\u001b[0m \u001b[0mnp\u001b[0m\u001b[0;34m.\u001b[0m\u001b[0mma\u001b[0m\u001b[0;34m.\u001b[0m\u001b[0mcolumn_stack\u001b[0m\u001b[0;34m(\u001b[0m\u001b[0;34m[\u001b[0m\u001b[0mx\u001b[0m\u001b[0;34m,\u001b[0m \u001b[0my\u001b[0m\u001b[0;34m]\u001b[0m\u001b[0;34m)\u001b[0m\u001b[0;34m\u001b[0m\u001b[0;34m\u001b[0m\u001b[0m\n\u001b[1;32m   4988\u001b[0m \u001b[0;34m\u001b[0m\u001b[0m\n\u001b[0;32m-> 4989\u001b[0;31m         collection = mcoll.PathCollection(\n\u001b[0m\u001b[1;32m   4990\u001b[0m             \u001b[0;34m(\u001b[0m\u001b[0mpath\u001b[0m\u001b[0;34m,\u001b[0m\u001b[0;34m)\u001b[0m\u001b[0;34m,\u001b[0m \u001b[0mscales\u001b[0m\u001b[0;34m,\u001b[0m\u001b[0;34m\u001b[0m\u001b[0;34m\u001b[0m\u001b[0m\n\u001b[1;32m   4991\u001b[0m             \u001b[0mfacecolors\u001b[0m\u001b[0;34m=\u001b[0m\u001b[0mcolors\u001b[0m\u001b[0;34m,\u001b[0m\u001b[0;34m\u001b[0m\u001b[0;34m\u001b[0m\u001b[0m\n",
            "\u001b[0;32m/usr/local/lib/python3.11/dist-packages/matplotlib/collections.py\u001b[0m in \u001b[0;36m__init__\u001b[0;34m(self, paths, sizes, **kwargs)\u001b[0m\n\u001b[1;32m   1037\u001b[0m         \"\"\"\n\u001b[1;32m   1038\u001b[0m \u001b[0;34m\u001b[0m\u001b[0m\n\u001b[0;32m-> 1039\u001b[0;31m         \u001b[0msuper\u001b[0m\u001b[0;34m(\u001b[0m\u001b[0;34m)\u001b[0m\u001b[0;34m.\u001b[0m\u001b[0m__init__\u001b[0m\u001b[0;34m(\u001b[0m\u001b[0;34m**\u001b[0m\u001b[0mkwargs\u001b[0m\u001b[0;34m)\u001b[0m\u001b[0;34m\u001b[0m\u001b[0;34m\u001b[0m\u001b[0m\n\u001b[0m\u001b[1;32m   1040\u001b[0m         \u001b[0mself\u001b[0m\u001b[0;34m.\u001b[0m\u001b[0mset_paths\u001b[0m\u001b[0;34m(\u001b[0m\u001b[0mpaths\u001b[0m\u001b[0;34m)\u001b[0m\u001b[0;34m\u001b[0m\u001b[0;34m\u001b[0m\u001b[0m\n\u001b[1;32m   1041\u001b[0m         \u001b[0mself\u001b[0m\u001b[0;34m.\u001b[0m\u001b[0mset_sizes\u001b[0m\u001b[0;34m(\u001b[0m\u001b[0msizes\u001b[0m\u001b[0;34m)\u001b[0m\u001b[0;34m\u001b[0m\u001b[0;34m\u001b[0m\u001b[0m\n",
            "\u001b[0;32m/usr/local/lib/python3.11/dist-packages/matplotlib/collections.py\u001b[0m in \u001b[0;36m__init__\u001b[0;34m(self, edgecolors, facecolors, linewidths, linestyles, capstyle, joinstyle, antialiaseds, offsets, offset_transform, norm, cmap, colorizer, pickradius, hatch, urls, zorder, **kwargs)\u001b[0m\n\u001b[1;32m    198\u001b[0m \u001b[0;34m\u001b[0m\u001b[0m\n\u001b[1;32m    199\u001b[0m         \u001b[0;32mif\u001b[0m \u001b[0moffsets\u001b[0m \u001b[0;32mis\u001b[0m \u001b[0;32mnot\u001b[0m \u001b[0;32mNone\u001b[0m\u001b[0;34m:\u001b[0m\u001b[0;34m\u001b[0m\u001b[0;34m\u001b[0m\u001b[0m\n\u001b[0;32m--> 200\u001b[0;31m             \u001b[0moffsets\u001b[0m \u001b[0;34m=\u001b[0m \u001b[0mnp\u001b[0m\u001b[0;34m.\u001b[0m\u001b[0masanyarray\u001b[0m\u001b[0;34m(\u001b[0m\u001b[0moffsets\u001b[0m\u001b[0;34m,\u001b[0m \u001b[0mfloat\u001b[0m\u001b[0;34m)\u001b[0m\u001b[0;34m\u001b[0m\u001b[0;34m\u001b[0m\u001b[0m\n\u001b[0m\u001b[1;32m    201\u001b[0m             \u001b[0;31m# Broadcast (2,) -> (1, 2) but nothing else.\u001b[0m\u001b[0;34m\u001b[0m\u001b[0;34m\u001b[0m\u001b[0m\n\u001b[1;32m    202\u001b[0m             \u001b[0;32mif\u001b[0m \u001b[0moffsets\u001b[0m\u001b[0;34m.\u001b[0m\u001b[0mshape\u001b[0m \u001b[0;34m==\u001b[0m \u001b[0;34m(\u001b[0m\u001b[0;36m2\u001b[0m\u001b[0;34m,\u001b[0m\u001b[0;34m)\u001b[0m\u001b[0;34m:\u001b[0m\u001b[0;34m\u001b[0m\u001b[0;34m\u001b[0m\u001b[0m\n",
            "\u001b[0;31mValueError\u001b[0m: could not convert string to float: 'None'"
          ]
        },
        {
          "output_type": "display_data",
          "data": {
            "text/plain": [
              "<Figure size 640x480 with 1 Axes>"
            ],
            "image/png": "[encoded data removed]"
          },
          "metadata": {}
        }
      ]
    },
    {
      "cell_type": "code",
      "source": [
        "a, b = np.polyfit(x, y, 1)\n",
        "plt.plot(x, a*x+b)\n",
        "print(\"Slope = \", a, \"km/s/Mpc\")"
      ],
      "metadata": {
        "id": "KsF-7PJJyZ_v"
      },
      "execution_count": null,
      "outputs": []
    },
    {
      "cell_type": "code",
      "source": [],
      "metadata": {
        "id": "mdNTh1UyyeZp"
      },
      "execution_count": null,
      "outputs": []
    }
  ]
}