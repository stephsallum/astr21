{
 "cells": [
  {
   "cell_type": "markdown",
   "id": "a540a031-7bf6-40ad-890b-a5a714dab14a",
   "metadata": {},
   "source": [
    "# ASTR21 Winter 2025 Section 1 Notebook: Units, Light, and Matter"
   ]
  },
  {
   "cell_type": "markdown",
   "id": "bddafcf9-aafb-4149-bcb2-711b6736d2ec",
   "metadata": {},
   "source": [
    "In this notebook, we'll go through some examples \n",
    "related to the material in section 1 (unit conversions,\n",
    "light, and matter). We'll also use some of the python \n",
    "modules that we'll be using in the notebooks that go \n",
    "with later sections in the course. "
   ]
  },
  {
   "cell_type": "markdown",
   "id": "d7f0da5f-4f19-4c27-88e5-629e1507a209",
   "metadata": {},
   "source": [
    "Let's start out by importing some modules for working with arrays, and for making plots."
   ]
  },
  {
   "cell_type": "code",
   "execution_count": 2,
   "id": "1c87142f-f0f8-4fc4-81c2-d8bcb7fc0dd5",
   "metadata": {},
   "outputs": [],
   "source": [
    "import matplotlib as mpl\n",
    "import matplotlib.pyplot as plt\n",
    "import numpy as np"
   ]
  },
  {
   "cell_type": "markdown",
   "id": "fb001365-203c-4ea9-acd7-b04c7447eb3d",
   "metadata": {},
   "source": [
    "In this course we'll be doing a few in-class activities \n",
    "where we load data from the class Github page. The \n",
    "following cell shows you how to do this using a wget command\n",
    "where you retrieve .zip archive from Github, and then \n",
    "using a command to unpack the archive into a directory\n",
    "that will exist in your Colab space. "
   ]
  },
  {
   "cell_type": "code",
   "execution_count": null,
   "id": "7a8b89da-0ddd-4550-858c-995d930c351c",
   "metadata": {},
   "outputs": [],
   "source": []
  }
 ],
 "metadata": {
  "kernelspec": {
   "display_name": "Python 3 (ipykernel)",
   "language": "python",
   "name": "python3"
  },
  "language_info": {
   "codemirror_mode": {
    "name": "ipython",
    "version": 3
   },
   "file_extension": ".py",
   "mimetype": "text/x-python",
   "name": "python",
   "nbconvert_exporter": "python",
   "pygments_lexer": "ipython3",
   "version": "3.11.9"
  }
 },
 "nbformat": 4,
 "nbformat_minor": 5
}
