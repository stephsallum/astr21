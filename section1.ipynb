{
  "cells": [
    {
      "cell_type": "markdown",
      "id": "a540a031-7bf6-40ad-890b-a5a714dab14a",
      "metadata": {
        "id": "a540a031-7bf6-40ad-890b-a5a714dab14a"
      },
      "source": [
        "# ASTR21 Winter 2025 Section 1 Notebook: Units, Light, and Matter"
      ]
    },
    {
      "cell_type": "markdown",
      "id": "bddafcf9-aafb-4149-bcb2-711b6736d2ec",
      "metadata": {
        "id": "bddafcf9-aafb-4149-bcb2-711b6736d2ec"
      },
      "source": [
        "In this notebook, we'll go through some examples\n",
        "related to the material in section 1 (unit conversions,\n",
        "light, and matter). We'll also use some of the python\n",
        "modules that we'll be using in the notebooks that go\n",
        "with later sections in the course."
      ]
    },
    {
      "cell_type": "markdown",
      "source": [
        "## Importing Modules"
      ],
      "metadata": {
        "id": "oKSLmtNkpnc9"
      },
      "id": "oKSLmtNkpnc9"
    },
    {
      "cell_type": "markdown",
      "id": "d7f0da5f-4f19-4c27-88e5-629e1507a209",
      "metadata": {
        "id": "d7f0da5f-4f19-4c27-88e5-629e1507a209"
      },
      "source": [
        "Let's start out by importing some modules for working with arrays, and for making plots. To execute the cell below, press shift and enter together, or\n",
        "click on the icon with the right arrow on the left side of the cell."
      ]
    },
    {
      "cell_type": "code",
      "execution_count": 2,
      "id": "1c87142f-f0f8-4fc4-81c2-d8bcb7fc0dd5",
      "metadata": {
        "id": "1c87142f-f0f8-4fc4-81c2-d8bcb7fc0dd5"
      },
      "outputs": [],
      "source": [
        "import matplotlib as mpl\n",
        "import matplotlib.pyplot as plt\n",
        "import numpy as np"
      ]
    },
    {
      "cell_type": "markdown",
      "source": [
        "## Pulling Data From Github"
      ],
      "metadata": {
        "id": "F_EP_Msfps3q"
      },
      "id": "F_EP_Msfps3q"
    },
    {
      "cell_type": "markdown",
      "id": "fb001365-203c-4ea9-acd7-b04c7447eb3d",
      "metadata": {
        "id": "fb001365-203c-4ea9-acd7-b04c7447eb3d"
      },
      "source": [
        "In this course we'll be doing a few in-class activities\n",
        "where we load data from the class Github page. The\n",
        "following cell shows you how to do this using a wget command\n",
        "where you retrieve .zip archive from Github, and then\n",
        "using a command to unpack the archive into a directory\n",
        "that will exist in your Colab space."
      ]
    },
    {
      "cell_type": "code",
      "execution_count": 3,
      "id": "7a8b89da-0ddd-4550-858c-995d930c351c",
      "metadata": {
        "colab": {
          "base_uri": "https://localhost:8080/"
        },
        "id": "7a8b89da-0ddd-4550-858c-995d930c351c",
        "outputId": "b6e6c003-d727-4d34-8e4c-4ba837d86205"
      },
      "outputs": [
        {
          "output_type": "stream",
          "name": "stdout",
          "text": [
            "--2024-12-28 23:40:11--  https://github.com/JWST-ERS1386-AMI/SAMpy/raw/refs/heads/main/data/data.zip\n",
            "Resolving github.com (github.com)... 140.82.113.4\n",
            "Connecting to github.com (github.com)|140.82.113.4|:443... connected.\n",
            "HTTP request sent, awaiting response... 302 Found\n",
            "Location: https://raw.githubusercontent.com/JWST-ERS1386-AMI/SAMpy/refs/heads/main/data/data.zip [following]\n",
            "--2024-12-28 23:40:12--  https://raw.githubusercontent.com/JWST-ERS1386-AMI/SAMpy/refs/heads/main/data/data.zip\n",
            "Resolving raw.githubusercontent.com (raw.githubusercontent.com)... 185.199.110.133, 185.199.109.133, 185.199.111.133, ...\n",
            "Connecting to raw.githubusercontent.com (raw.githubusercontent.com)|185.199.110.133|:443... connected.\n",
            "HTTP request sent, awaiting response... 200 OK\n",
            "Length: 76644 (75K) [application/zip]\n",
            "Saving to: ‘data.zip’\n",
            "\n",
            "data.zip            100%[===================>]  74.85K  --.-KB/s    in 0.02s   \n",
            "\n",
            "2024-12-28 23:40:12 (3.43 MB/s) - ‘data.zip’ saved [76644/76644]\n",
            "\n",
            "Archive:  data.zip\n",
            "   creating: data/\n",
            "  inflating: __MACOSX/._data         \n",
            "  inflating: data/test.fits          \n",
            "  inflating: __MACOSX/data/._test.fits  \n"
          ]
        }
      ],
      "source": [
        "!wget https://github.com/JWST-ERS1386-AMI/SAMpy/raw/refs/heads/main/data/data.zip\n",
        "!unzip data.zip"
      ]
    },
    {
      "cell_type": "markdown",
      "source": [],
      "metadata": {
        "id": "dSMqVuy0pZ7n"
      },
      "id": "dSMqVuy0pZ7n"
    },
    {
      "cell_type": "code",
      "source": [],
      "metadata": {
        "id": "yeXdywXko3cR"
      },
      "id": "yeXdywXko3cR",
      "execution_count": null,
      "outputs": []
    }
  ],
  "metadata": {
    "kernelspec": {
      "display_name": "Python 3 (ipykernel)",
      "language": "python",
      "name": "python3"
    },
    "language_info": {
      "codemirror_mode": {
        "name": "ipython",
        "version": 3
      },
      "file_extension": ".py",
      "mimetype": "text/x-python",
      "name": "python",
      "nbconvert_exporter": "python",
      "pygments_lexer": "ipython3",
      "version": "3.11.9"
    },
    "colab": {
      "provenance": []
    }
  },
  "nbformat": 4,
  "nbformat_minor": 5
}